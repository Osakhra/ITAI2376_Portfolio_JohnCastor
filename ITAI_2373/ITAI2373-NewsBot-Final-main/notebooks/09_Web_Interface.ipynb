{
  "nbformat": 4,
  "nbformat_minor": 0,
  "metadata": {
    "colab": {
      "provenance": [],
      "include_colab_link": true
    },
    "kernelspec": {
      "name": "python3",
      "display_name": "Python 3"
    },
    "language_info": {
      "name": "python"
    }
  },
  "cells": [
    {
      "cell_type": "markdown",
      "metadata": {
        "id": "view-in-github",
        "colab_type": "text"
      },
      "source": [
        "<a href=\"https://colab.research.google.com/github/Osakhra/ITAI2373-NewsBot-Final/blob/main/notebooks/09_Web_Interface.ipynb\" target=\"_parent\"><img src=\"https://colab.research.google.com/assets/colab-badge.svg\" alt=\"Open In Colab\"/></a>"
      ]
    },
    {
      "cell_type": "code",
      "execution_count": 1,
      "metadata": {
        "colab": {
          "base_uri": "https://localhost:8080/"
        },
        "id": "wXPPYApdAoac",
        "outputId": "832903e9-a904-43cf-8cd4-f9fe33653a31"
      },
      "outputs": [
        {
          "output_type": "stream",
          "name": "stdout",
          "text": [
            "/bin/bash: line 1: 2: No such file or directory\n"
          ]
        },
        {
          "output_type": "stream",
          "name": "stderr",
          "text": [
            "[nltk_data] Downloading package stopwords to /root/nltk_data...\n",
            "[nltk_data]   Package stopwords is already up-to-date!\n"
          ]
        },
        {
          "output_type": "execute_result",
          "data": {
            "text/plain": [
              "True"
            ]
          },
          "metadata": {},
          "execution_count": 1
        }
      ],
      "source": [
        "!pip install langdetect spacy nltk scikit-learn pyldavis textblob transformers torch sumy sentence-transformers numpy matplotlib seaborn googletrans==4.0.0-rc1 gradio pydantic<2 pydantic-core<2\n",
        "import nltk\n",
        "nltk.download('stopwords')\n"
      ]
    },
    {
      "cell_type": "code",
      "source": [
        "!pip install gradio --quiet\n"
      ],
      "metadata": {
        "id": "oL-Ke0EtBDfB"
      },
      "execution_count": 2,
      "outputs": []
    },
    {
      "cell_type": "code",
      "source": [
        "!git clone https://github.com/Osakhra/ITAI2373-NewsBot-Final.git\n",
        "import sys\n",
        "sys.path.append('/content/ITAI2373-NewsBot-Final/src')\n"
      ],
      "metadata": {
        "colab": {
          "base_uri": "https://localhost:8080/"
        },
        "id": "enV3L5bxA48g",
        "outputId": "bbd970c7-7723-4d71-ce3e-c8396d04e274"
      },
      "execution_count": 3,
      "outputs": [
        {
          "output_type": "stream",
          "name": "stdout",
          "text": [
            "fatal: destination path 'ITAI2373-NewsBot-Final' already exists and is not an empty directory.\n"
          ]
        }
      ]
    },
    {
      "cell_type": "code",
      "source": [
        "import pandas as pd\n",
        "df = pd.read_csv(\"ITAI2373-NewsBot-Final/data/processed/news_cleaned.csv\")\n"
      ],
      "metadata": {
        "id": "oN-UluFhA-Wm"
      },
      "execution_count": 4,
      "outputs": []
    },
    {
      "cell_type": "code",
      "source": [
        "import sys\n",
        "sys.path.append('/content/ITAI2373-NewsBot-Final/src')\n",
        "\n",
        "import pandas as pd\n",
        "from data_processing.feature_extractor import FeatureExtractor\n",
        "from analysis.classifier import NewsClassifier\n",
        "from analysis.sentiment_analyzer import SentimentAnalyzer\n",
        "from analysis.ner_extractor import NERExtractor\n",
        "from analysis.topic_modeler import TopicModeler\n",
        "from language_models.summarizer import Summarizer\n",
        "from conversation.query_processor import QueryProcessor\n"
      ],
      "metadata": {
        "id": "B0GEuoakBE3B"
      },
      "execution_count": 5,
      "outputs": []
    },
    {
      "cell_type": "code",
      "source": [
        "from pathlib import Path\n",
        "\n",
        "# Paths\n",
        "VEC_PATH = \"/content/ITAI2373-NewsBot-Final/data/models/tfidf_vectorizer.pkl\"\n",
        "CLF_PATH = \"/content/ITAI2373-NewsBot-Final/data/models/news_classifier_nb.pkl\"\n",
        "\n",
        "# Make sure directory exists\n",
        "Path(\"/content/ITAI2373-NewsBot-Final/data/models\").mkdir(parents=True, exist_ok=True)\n",
        "\n",
        "# Train\n",
        "extractor = FeatureExtractor(max_features=2000, ngram_range=(1,2))\n",
        "X = extractor.fit_transform(df['clean_content'])\n",
        "y = df['category']\n",
        "\n",
        "from sklearn.model_selection import train_test_split\n",
        "X_train, X_test, y_train, y_test = train_test_split(X, y, test_size=0.2, random_state=42)\n",
        "\n",
        "clf = NewsClassifier(model_type=\"nb\")\n",
        "clf.train(X_train, y_train)\n",
        "clf.evaluate(X_test, y_test)\n",
        "\n",
        "# Save\n",
        "extractor.save(VEC_PATH)\n",
        "clf.save(CLF_PATH)\n",
        "\n",
        "print(\"Saved:\", VEC_PATH, \"and\", CLF_PATH)\n"
      ],
      "metadata": {
        "colab": {
          "base_uri": "https://localhost:8080/"
        },
        "id": "z9wstEOnD2Ze",
        "outputId": "d8bd5d23-2740-4023-c68f-727ce8d9a258"
      },
      "execution_count": 6,
      "outputs": [
        {
          "output_type": "stream",
          "name": "stdout",
          "text": [
            "               precision    recall  f1-score   support\n",
            "\n",
            "     business       0.97      0.97      0.97        75\n",
            "entertainment       1.00      0.98      0.99        46\n",
            "     politics       0.93      0.95      0.94        56\n",
            "        sport       0.97      1.00      0.98        63\n",
            "         tech       0.96      0.93      0.95        58\n",
            "\n",
            "     accuracy                           0.97       298\n",
            "    macro avg       0.97      0.97      0.97       298\n",
            " weighted avg       0.97      0.97      0.97       298\n",
            "\n",
            "Accuracy: 96.64%\n",
            "Saved: /content/ITAI2373-NewsBot-Final/data/models/tfidf_vectorizer.pkl and /content/ITAI2373-NewsBot-Final/data/models/news_classifier_nb.pkl\n"
          ]
        }
      ]
    },
    {
      "cell_type": "code",
      "source": [
        "%cd /content/ITAI2373-NewsBot-Final\n"
      ],
      "metadata": {
        "colab": {
          "base_uri": "https://localhost:8080/"
        },
        "id": "g0ATdTtZEagE",
        "outputId": "0b71fb2f-30e5-4f63-b97b-1c1715c97a07"
      },
      "execution_count": 7,
      "outputs": [
        {
          "output_type": "stream",
          "name": "stdout",
          "text": [
            "/content/ITAI2373-NewsBot-Final\n"
          ]
        }
      ]
    },
    {
      "cell_type": "code",
      "source": [
        "df = pd.read_csv(\"/content/ITAI2373-NewsBot-Final/data/processed/news_cleaned.csv\")\n",
        "\n",
        "extractor = FeatureExtractor()\n",
        "extractor.load(\"/content/ITAI2373-NewsBot-Final/data/models/tfidf_vectorizer.pkl\")\n",
        "\n",
        "clf = NewsClassifier(model_type=\"nb\")\n",
        "clf.load(\"/content/ITAI2373-NewsBot-Final/data/models/news_classifier_nb.pkl\")\n",
        "\n",
        "sentiment_analyzer = SentimentAnalyzer()\n",
        "ner_extractor = NERExtractor()\n",
        "topic_modeler = TopicModeler(n_topics=5, method='lda', max_features=1500)\n",
        "topic_modeler.fit_transform(df['clean_content'])\n",
        "\n",
        "summarizer = Summarizer()\n",
        "\n",
        "qp = QueryProcessor(\n",
        "    classifier=clf,\n",
        "    sentiment_analyzer=sentiment_analyzer,\n",
        "    ner_extractor=ner_extractor,\n",
        "    topic_modeler=topic_modeler,\n",
        "    summarizer=summarizer,\n",
        "    feature_extractor=extractor\n",
        ")"
      ],
      "metadata": {
        "id": "EtrHUKZoBGBL",
        "colab": {
          "base_uri": "https://localhost:8080/"
        },
        "outputId": "4b07fc09-b4ea-49be-84d3-2145481cafbb"
      },
      "execution_count": 8,
      "outputs": [
        {
          "output_type": "stream",
          "name": "stderr",
          "text": [
            "/usr/local/lib/python3.11/dist-packages/huggingface_hub/utils/_auth.py:94: UserWarning: \n",
            "The secret `HF_TOKEN` does not exist in your Colab secrets.\n",
            "To authenticate with the Hugging Face Hub, create a token in your settings tab (https://huggingface.co/settings/tokens), set it as secret in your Google Colab and restart your session.\n",
            "You will be able to reuse this secret in all of your notebooks.\n",
            "Please note that authentication is recommended but still optional to access public models or datasets.\n",
            "  warnings.warn(\n",
            "Device set to use cpu\n"
          ]
        }
      ]
    },
    {
      "cell_type": "code",
      "source": [
        "import gradio as gr\n",
        "\n",
        "def chat_interface(query, article_text):\n",
        "    return qp.process(query, article_text)\n",
        "\n",
        "demo = gr.Interface(\n",
        "    fn=chat_interface,\n",
        "    inputs=[\n",
        "        gr.Textbox(label=\"Ask a question (e.g., What is the sentiment?)\"),\n",
        "        gr.Textbox(label=\"Paste the article content here\")\n",
        "    ],\n",
        "    outputs=\"text\",\n",
        "    title=\"NewsBot 2.0\",\n",
        "    description=\"Ask questions about news articles. Try: category, sentiment, topic, entities, or summary.\",\n",
        ")\n",
        "\n",
        "demo.launch(debug=True)\n"
      ],
      "metadata": {
        "id": "3YhMWD1zBOH_",
        "colab": {
          "base_uri": "https://localhost:8080/",
          "height": 704
        },
        "outputId": "74e30623-7a1b-4892-f684-87e2da74d4e3"
      },
      "execution_count": 9,
      "outputs": [
        {
          "output_type": "stream",
          "name": "stdout",
          "text": [
            "It looks like you are running Gradio on a hosted Jupyter notebook, which requires `share=True`. Automatically setting `share=True` (you can turn this off by setting `share=False` in `launch()` explicitly).\n",
            "\n",
            "Colab notebook detected. This cell will run indefinitely so that you can see errors and logs. To turn off, set debug=False in launch().\n",
            "* Running on public URL: https://d1dad4bcfee59e28b5.gradio.live\n",
            "\n",
            "This share link expires in 1 week. For free permanent hosting and GPU upgrades, run `gradio deploy` from the terminal in the working directory to deploy to Hugging Face Spaces (https://huggingface.co/spaces)\n"
          ]
        },
        {
          "output_type": "display_data",
          "data": {
            "text/plain": [
              "<IPython.core.display.HTML object>"
            ],
            "text/html": [
              "<div><iframe src=\"https://d1dad4bcfee59e28b5.gradio.live\" width=\"100%\" height=\"500\" allow=\"autoplay; camera; microphone; clipboard-read; clipboard-write;\" frameborder=\"0\" allowfullscreen></iframe></div>"
            ]
          },
          "metadata": {}
        },
        {
          "output_type": "stream",
          "name": "stdout",
          "text": [
            "Detected Intent: category\n",
            "Keyboard interruption in main thread... closing server.\n",
            "Killing tunnel 127.0.0.1:7860 <> https://d1dad4bcfee59e28b5.gradio.live\n"
          ]
        },
        {
          "output_type": "execute_result",
          "data": {
            "text/plain": []
          },
          "metadata": {},
          "execution_count": 9
        }
      ]
    }
  ]
}