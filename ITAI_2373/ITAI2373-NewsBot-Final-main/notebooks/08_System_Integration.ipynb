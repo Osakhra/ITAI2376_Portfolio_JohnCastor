{
  "nbformat": 4,
  "nbformat_minor": 0,
  "metadata": {
    "colab": {
      "provenance": [],
      "authorship_tag": "ABX9TyOOh91hkYBHSadHGBopX8Cy",
      "include_colab_link": true
    },
    "kernelspec": {
      "name": "python3",
      "display_name": "Python 3"
    },
    "language_info": {
      "name": "python"
    }
  },
  "cells": [
    {
      "cell_type": "markdown",
      "metadata": {
        "id": "view-in-github",
        "colab_type": "text"
      },
      "source": [
        "<a href=\"https://colab.research.google.com/github/Osakhra/ITAI2373-NewsBot-Final/blob/main/notebooks/08_System_Integration.ipynb\" target=\"_parent\"><img src=\"https://colab.research.google.com/assets/colab-badge.svg\" alt=\"Open In Colab\"/></a>"
      ]
    },
    {
      "cell_type": "markdown",
      "source": [
        "# 08 – System Integration\n",
        "\n",
        "I’m wiring everything together so one call can analyze a news article from start to finish: preprocessing → features → classification → sentiment → entities → topic → summary → nicely packaged result. I’ll also save a small batch of integrated results to `data/results/` for later use.\n"
      ],
      "metadata": {
        "id": "8_d0JD71380s"
      }
    },
    {
      "cell_type": "code",
      "execution_count": 1,
      "metadata": {
        "colab": {
          "base_uri": "https://localhost:8080/"
        },
        "id": "CiZWFLXE35U3",
        "outputId": "63f7dad7-fe82-45df-da00-fed96da58274"
      },
      "outputs": [
        {
          "output_type": "stream",
          "name": "stderr",
          "text": [
            "[nltk_data] Downloading package stopwords to /root/nltk_data...\n",
            "[nltk_data]   Package stopwords is already up-to-date!\n"
          ]
        },
        {
          "output_type": "execute_result",
          "data": {
            "text/plain": [
              "True"
            ]
          },
          "metadata": {},
          "execution_count": 1
        }
      ],
      "source": [
        "!pip install -q langdetect spacy nltk scikit-learn pyldavis textblob transformers torch sumy sentence-transformers googletrans==4.0.0-rc1\n",
        "\n",
        "import nltk\n",
        "nltk.download('stopwords')\n"
      ]
    },
    {
      "cell_type": "code",
      "source": [
        "!git clone https://github.com/Osakhra/ITAI2373-NewsBot-Final.git\n",
        "import sys, os, pathlib\n",
        "PROJECT_ROOT = \"/content/ITAI2373-NewsBot-Final\"\n",
        "sys.path.append(f\"{PROJECT_ROOT}/src\")\n",
        "\n",
        "# Make sure models dir exists for saves\n",
        "os.makedirs(f\"{PROJECT_ROOT}/data/models\", exist_ok=True)\n"
      ],
      "metadata": {
        "colab": {
          "base_uri": "https://localhost:8080/"
        },
        "id": "r5aYEVHK4ii7",
        "outputId": "03373048-4558-46fd-a718-caeb5ab4bd2f"
      },
      "execution_count": 2,
      "outputs": [
        {
          "output_type": "stream",
          "name": "stdout",
          "text": [
            "fatal: destination path 'ITAI2373-NewsBot-Final' already exists and is not an empty directory.\n"
          ]
        }
      ]
    },
    {
      "cell_type": "code",
      "source": [
        "import pandas as pd, os\n",
        "\n",
        "CSV_PATH = f\"{PROJECT_ROOT}/data/processed/news_cleaned.csv\"\n",
        "\n",
        "if os.path.exists(CSV_PATH):\n",
        "    df = pd.read_csv(CSV_PATH)\n",
        "else:\n",
        "    from google.colab import files\n",
        "    print(\"I didn't find data/processed/news_cleaned.csv in the repo. Upload it now.\")\n",
        "    uploaded = files.upload()  # choose your news_cleaned.csv\n",
        "    up_name = list(uploaded.keys())[0]\n",
        "    df = pd.read_csv(up_name)\n",
        "\n",
        "# Basic checks\n",
        "assert {'content','category','clean_content'}.issubset(df.columns), \"Expected columns not found.\"\n",
        "df.head(2)\n"
      ],
      "metadata": {
        "colab": {
          "base_uri": "https://localhost:8080/",
          "height": 146
        },
        "id": "fsJBn_z44jt5",
        "outputId": "b8f9cf40-1440-4a71-baf6-86f2bd24728d"
      },
      "execution_count": 3,
      "outputs": [
        {
          "output_type": "execute_result",
          "data": {
            "text/plain": [
              "   ArticleId                                            content  category  \\\n",
              "0       1833  worldcom ex-boss launches defence lawyers defe...  business   \n",
              "1        154  german business confidence slides german busin...  business   \n",
              "\n",
              "                                       clean_content  \n",
              "0  worldcom ex boss launch defence lawyer defend ...  \n",
              "1  german business confidence slide german busine...  "
            ],
            "text/html": [
              "\n",
              "  <div id=\"df-5196722f-0269-4ef0-ac47-8d2bdc569962\" class=\"colab-df-container\">\n",
              "    <div>\n",
              "<style scoped>\n",
              "    .dataframe tbody tr th:only-of-type {\n",
              "        vertical-align: middle;\n",
              "    }\n",
              "\n",
              "    .dataframe tbody tr th {\n",
              "        vertical-align: top;\n",
              "    }\n",
              "\n",
              "    .dataframe thead th {\n",
              "        text-align: right;\n",
              "    }\n",
              "</style>\n",
              "<table border=\"1\" class=\"dataframe\">\n",
              "  <thead>\n",
              "    <tr style=\"text-align: right;\">\n",
              "      <th></th>\n",
              "      <th>ArticleId</th>\n",
              "      <th>content</th>\n",
              "      <th>category</th>\n",
              "      <th>clean_content</th>\n",
              "    </tr>\n",
              "  </thead>\n",
              "  <tbody>\n",
              "    <tr>\n",
              "      <th>0</th>\n",
              "      <td>1833</td>\n",
              "      <td>worldcom ex-boss launches defence lawyers defe...</td>\n",
              "      <td>business</td>\n",
              "      <td>worldcom ex boss launch defence lawyer defend ...</td>\n",
              "    </tr>\n",
              "    <tr>\n",
              "      <th>1</th>\n",
              "      <td>154</td>\n",
              "      <td>german business confidence slides german busin...</td>\n",
              "      <td>business</td>\n",
              "      <td>german business confidence slide german busine...</td>\n",
              "    </tr>\n",
              "  </tbody>\n",
              "</table>\n",
              "</div>\n",
              "    <div class=\"colab-df-buttons\">\n",
              "\n",
              "  <div class=\"colab-df-container\">\n",
              "    <button class=\"colab-df-convert\" onclick=\"convertToInteractive('df-5196722f-0269-4ef0-ac47-8d2bdc569962')\"\n",
              "            title=\"Convert this dataframe to an interactive table.\"\n",
              "            style=\"display:none;\">\n",
              "\n",
              "  <svg xmlns=\"http://www.w3.org/2000/svg\" height=\"24px\" viewBox=\"0 -960 960 960\">\n",
              "    <path d=\"M120-120v-720h720v720H120Zm60-500h600v-160H180v160Zm220 220h160v-160H400v160Zm0 220h160v-160H400v160ZM180-400h160v-160H180v160Zm440 0h160v-160H620v160ZM180-180h160v-160H180v160Zm440 0h160v-160H620v160Z\"/>\n",
              "  </svg>\n",
              "    </button>\n",
              "\n",
              "  <style>\n",
              "    .colab-df-container {\n",
              "      display:flex;\n",
              "      gap: 12px;\n",
              "    }\n",
              "\n",
              "    .colab-df-convert {\n",
              "      background-color: #E8F0FE;\n",
              "      border: none;\n",
              "      border-radius: 50%;\n",
              "      cursor: pointer;\n",
              "      display: none;\n",
              "      fill: #1967D2;\n",
              "      height: 32px;\n",
              "      padding: 0 0 0 0;\n",
              "      width: 32px;\n",
              "    }\n",
              "\n",
              "    .colab-df-convert:hover {\n",
              "      background-color: #E2EBFA;\n",
              "      box-shadow: 0px 1px 2px rgba(60, 64, 67, 0.3), 0px 1px 3px 1px rgba(60, 64, 67, 0.15);\n",
              "      fill: #174EA6;\n",
              "    }\n",
              "\n",
              "    .colab-df-buttons div {\n",
              "      margin-bottom: 4px;\n",
              "    }\n",
              "\n",
              "    [theme=dark] .colab-df-convert {\n",
              "      background-color: #3B4455;\n",
              "      fill: #D2E3FC;\n",
              "    }\n",
              "\n",
              "    [theme=dark] .colab-df-convert:hover {\n",
              "      background-color: #434B5C;\n",
              "      box-shadow: 0px 1px 3px 1px rgba(0, 0, 0, 0.15);\n",
              "      filter: drop-shadow(0px 1px 2px rgba(0, 0, 0, 0.3));\n",
              "      fill: #FFFFFF;\n",
              "    }\n",
              "  </style>\n",
              "\n",
              "    <script>\n",
              "      const buttonEl =\n",
              "        document.querySelector('#df-5196722f-0269-4ef0-ac47-8d2bdc569962 button.colab-df-convert');\n",
              "      buttonEl.style.display =\n",
              "        google.colab.kernel.accessAllowed ? 'block' : 'none';\n",
              "\n",
              "      async function convertToInteractive(key) {\n",
              "        const element = document.querySelector('#df-5196722f-0269-4ef0-ac47-8d2bdc569962');\n",
              "        const dataTable =\n",
              "          await google.colab.kernel.invokeFunction('convertToInteractive',\n",
              "                                                    [key], {});\n",
              "        if (!dataTable) return;\n",
              "\n",
              "        const docLinkHtml = 'Like what you see? Visit the ' +\n",
              "          '<a target=\"_blank\" href=https://colab.research.google.com/notebooks/data_table.ipynb>data table notebook</a>'\n",
              "          + ' to learn more about interactive tables.';\n",
              "        element.innerHTML = '';\n",
              "        dataTable['output_type'] = 'display_data';\n",
              "        await google.colab.output.renderOutput(dataTable, element);\n",
              "        const docLink = document.createElement('div');\n",
              "        docLink.innerHTML = docLinkHtml;\n",
              "        element.appendChild(docLink);\n",
              "      }\n",
              "    </script>\n",
              "  </div>\n",
              "\n",
              "\n",
              "    <div id=\"df-ac7bb16c-8858-4033-a6aa-ba02841eaee9\">\n",
              "      <button class=\"colab-df-quickchart\" onclick=\"quickchart('df-ac7bb16c-8858-4033-a6aa-ba02841eaee9')\"\n",
              "                title=\"Suggest charts\"\n",
              "                style=\"display:none;\">\n",
              "\n",
              "<svg xmlns=\"http://www.w3.org/2000/svg\" height=\"24px\"viewBox=\"0 0 24 24\"\n",
              "     width=\"24px\">\n",
              "    <g>\n",
              "        <path d=\"M19 3H5c-1.1 0-2 .9-2 2v14c0 1.1.9 2 2 2h14c1.1 0 2-.9 2-2V5c0-1.1-.9-2-2-2zM9 17H7v-7h2v7zm4 0h-2V7h2v10zm4 0h-2v-4h2v4z\"/>\n",
              "    </g>\n",
              "</svg>\n",
              "      </button>\n",
              "\n",
              "<style>\n",
              "  .colab-df-quickchart {\n",
              "      --bg-color: #E8F0FE;\n",
              "      --fill-color: #1967D2;\n",
              "      --hover-bg-color: #E2EBFA;\n",
              "      --hover-fill-color: #174EA6;\n",
              "      --disabled-fill-color: #AAA;\n",
              "      --disabled-bg-color: #DDD;\n",
              "  }\n",
              "\n",
              "  [theme=dark] .colab-df-quickchart {\n",
              "      --bg-color: #3B4455;\n",
              "      --fill-color: #D2E3FC;\n",
              "      --hover-bg-color: #434B5C;\n",
              "      --hover-fill-color: #FFFFFF;\n",
              "      --disabled-bg-color: #3B4455;\n",
              "      --disabled-fill-color: #666;\n",
              "  }\n",
              "\n",
              "  .colab-df-quickchart {\n",
              "    background-color: var(--bg-color);\n",
              "    border: none;\n",
              "    border-radius: 50%;\n",
              "    cursor: pointer;\n",
              "    display: none;\n",
              "    fill: var(--fill-color);\n",
              "    height: 32px;\n",
              "    padding: 0;\n",
              "    width: 32px;\n",
              "  }\n",
              "\n",
              "  .colab-df-quickchart:hover {\n",
              "    background-color: var(--hover-bg-color);\n",
              "    box-shadow: 0 1px 2px rgba(60, 64, 67, 0.3), 0 1px 3px 1px rgba(60, 64, 67, 0.15);\n",
              "    fill: var(--button-hover-fill-color);\n",
              "  }\n",
              "\n",
              "  .colab-df-quickchart-complete:disabled,\n",
              "  .colab-df-quickchart-complete:disabled:hover {\n",
              "    background-color: var(--disabled-bg-color);\n",
              "    fill: var(--disabled-fill-color);\n",
              "    box-shadow: none;\n",
              "  }\n",
              "\n",
              "  .colab-df-spinner {\n",
              "    border: 2px solid var(--fill-color);\n",
              "    border-color: transparent;\n",
              "    border-bottom-color: var(--fill-color);\n",
              "    animation:\n",
              "      spin 1s steps(1) infinite;\n",
              "  }\n",
              "\n",
              "  @keyframes spin {\n",
              "    0% {\n",
              "      border-color: transparent;\n",
              "      border-bottom-color: var(--fill-color);\n",
              "      border-left-color: var(--fill-color);\n",
              "    }\n",
              "    20% {\n",
              "      border-color: transparent;\n",
              "      border-left-color: var(--fill-color);\n",
              "      border-top-color: var(--fill-color);\n",
              "    }\n",
              "    30% {\n",
              "      border-color: transparent;\n",
              "      border-left-color: var(--fill-color);\n",
              "      border-top-color: var(--fill-color);\n",
              "      border-right-color: var(--fill-color);\n",
              "    }\n",
              "    40% {\n",
              "      border-color: transparent;\n",
              "      border-right-color: var(--fill-color);\n",
              "      border-top-color: var(--fill-color);\n",
              "    }\n",
              "    60% {\n",
              "      border-color: transparent;\n",
              "      border-right-color: var(--fill-color);\n",
              "    }\n",
              "    80% {\n",
              "      border-color: transparent;\n",
              "      border-right-color: var(--fill-color);\n",
              "      border-bottom-color: var(--fill-color);\n",
              "    }\n",
              "    90% {\n",
              "      border-color: transparent;\n",
              "      border-bottom-color: var(--fill-color);\n",
              "    }\n",
              "  }\n",
              "</style>\n",
              "\n",
              "      <script>\n",
              "        async function quickchart(key) {\n",
              "          const quickchartButtonEl =\n",
              "            document.querySelector('#' + key + ' button');\n",
              "          quickchartButtonEl.disabled = true;  // To prevent multiple clicks.\n",
              "          quickchartButtonEl.classList.add('colab-df-spinner');\n",
              "          try {\n",
              "            const charts = await google.colab.kernel.invokeFunction(\n",
              "                'suggestCharts', [key], {});\n",
              "          } catch (error) {\n",
              "            console.error('Error during call to suggestCharts:', error);\n",
              "          }\n",
              "          quickchartButtonEl.classList.remove('colab-df-spinner');\n",
              "          quickchartButtonEl.classList.add('colab-df-quickchart-complete');\n",
              "        }\n",
              "        (() => {\n",
              "          let quickchartButtonEl =\n",
              "            document.querySelector('#df-ac7bb16c-8858-4033-a6aa-ba02841eaee9 button');\n",
              "          quickchartButtonEl.style.display =\n",
              "            google.colab.kernel.accessAllowed ? 'block' : 'none';\n",
              "        })();\n",
              "      </script>\n",
              "    </div>\n",
              "\n",
              "    </div>\n",
              "  </div>\n"
            ],
            "application/vnd.google.colaboratory.intrinsic+json": {
              "type": "dataframe",
              "variable_name": "df",
              "summary": "{\n  \"name\": \"df\",\n  \"rows\": 1490,\n  \"fields\": [\n    {\n      \"column\": \"ArticleId\",\n      \"properties\": {\n        \"dtype\": \"number\",\n        \"std\": 641,\n        \"min\": 2,\n        \"max\": 2224,\n        \"num_unique_values\": 1490,\n        \"samples\": [\n          2160,\n          1360,\n          302\n        ],\n        \"semantic_type\": \"\",\n        \"description\": \"\"\n      }\n    },\n    {\n      \"column\": \"content\",\n      \"properties\": {\n        \"dtype\": \"string\",\n        \"num_unique_values\": 1440,\n        \"samples\": [\n          \"bellamy under new fire newcastle boss graeme souness has reopened his dispute with craig bellamy after claiming the welshman was  not good enough  for the magpies. bellamy left newcastle to join celtic on loan after a major row with souness. souness - who refused to refer to the 25-year-old by name - said bellamy did not score enough goals  the chap that s just gone has scored 9.3 goals a season in his time in senior football - half of those weren t even in the top flight   said souness.  that s not good enough for a striker at a club like this.  we need to have two strikers who are near 20 goals on a regular basis.   bellamy turned down a move to birmingham in favour of joining celtic after a disagreement about the welsh international playing out of position quickly escalated. earlier in the week  souness had said that he risked losing the confidence of the players and damaging his own reputation if he had not taken a hard line after bellamy accused him of lying.   there are certain things you can forgive and forget   said souness.  but if i d been seen to be weak in this case there was no future for me with the players in the dressing room or any job i have after newcastle.  he could then return to st james  park - and he says that he wants to. however  it would seem unlikely he will play for newcastle again as long as souness remains in charge.\",\n          \"schools to take part in mock poll record numbers of schools across the uk are to take part in a mock general election backed by the government.  some 600 schools have already signed up for the y vote mock elections 2005 run by the hansard society and aimed at boosting interest in politics. pupils in the schools taking part will learn the skills of speech writers  canvassers and political candidates. schools minister stephen twigg said engaging young people s interest was  essential  to the future of democracy.  he added: said  young people who are engaged and motivated by the political process are essential to the future health of our democracy.  the mock elections initiative provides an opportunity for pupils to develop their own understanding of how the democratic process works and why it matters.  by experiencing the election process first hand - from running a campaign to the declaration of the final result - we hope that young people will develop the enthusiasm to take part in the future.  the hansard society  the electoral commission and the department for education and skills are running the programme. pupils will stand as party candidates  speech writers and canvassers. michael raftery  project manager at the hansard society  said:  the y vote mock elections for schools mirror the excitement and buzz of a real election  raising awareness of citizenship  and the benefits of active democracy.  the mock votes will take place around 5 may  widely expected to be the date of the general election. information packs  including ballot papers and manifesto guides  with elections happening in early may were sent out to the 3 000 schools invited to take part.\",\n          \"rap boss arrested over drug find rap mogul marion  suge  knight has been arrested for violating his parole after he was allegedly found with marijuana.  he was arrested in barstow  california  on saturday following an alleged traffic offence. he is expected to be transferred to a state prison while a decision is made on whether he should be released. mr knight  founder of death row records  served a 10-month jail term in 2004 for punching a man while on parole for an assault conviction. police said mr knight was stopped on saturday after performing an illegal u-turn and a search of his car allegedly found marijuana.  he is also accused of not having insurance. a 18-year-old woman in the car was arrested for providing false information and having a fake id card. she was later released. it was his second alleged violation  having previously served half of a nine-year sentence for breaking the terms of his parole. mr knight  39  was jailed in october 1996 following his involvement in a fight with a rival gang just hours before rapper tupac shakur was killed in a las vegas drive-by shooting. he was driving shakur s car at the time and was shot in the head. at the time he was on probation for assaulting two musicians. mr knight  a former bodyguard  set up death row records in the early 1990s with shakur and dr dre among his protegees. but the label has always been dogged by allegations it supports gang culture and fuels the east and west coast rap rivalry.\"\n        ],\n        \"semantic_type\": \"\",\n        \"description\": \"\"\n      }\n    },\n    {\n      \"column\": \"category\",\n      \"properties\": {\n        \"dtype\": \"category\",\n        \"num_unique_values\": 5,\n        \"samples\": [\n          \"tech\",\n          \"entertainment\",\n          \"politics\"\n        ],\n        \"semantic_type\": \"\",\n        \"description\": \"\"\n      }\n    },\n    {\n      \"column\": \"clean_content\",\n      \"properties\": {\n        \"dtype\": \"string\",\n        \"num_unique_values\": 1436,\n        \"samples\": [\n          \"brown target oap homebuyer gordon brown double level house buyer pay stamp duty put economy heart labour election campaign chancellor also unveil one council tax refund pensioner rise child tax credit mr brown put pint beer bottle wine cigarette freeze petrol duty september tory call vote pay later budget lib dem brand stick plaster election tory leader michael howard predict budget would nothing help labour falter election campaign government chancellor run solution problem britain face mr howard tell mps answer tax spend waste get people vote pay later end response election challenge labour saying bring liberal democrat leader charles kennedy attack mr brown fail mention environment record social justice right britain today poor pay tax proportion income rich ask mr kennedy criticise mr brown fail mention tick bomb council tax revaluation say high time system replace local tax base ability pay minute speech mr brown tell mp defy pundit hit growth target say budget strike balance tax cut affordable investment essential stability paramount reject across board tax cut favour target help family child tax credit rise line earning give family extra week contrast personal income tax allowance rise line inflation next month mr brown tell mp child benefit would rise maximum week first child two child despite giveaway budget document show mr brown claw back clampdown tax avoidance increase revenue windfall tax oil company also scrap stamp duty relief commercial property disadvantaged area measure bring three year ago bbc political editor andrew marr suggest sweetener big enough transform effect voter trust mr brown economic stewardship would central election issue say mr brown also unveil plan memorial queen mother fund special coin celebrate queen birthday measure include equal tax status sex couple deal council mortgage lender boost low cost home ownership level people start pay inheritance tax also rise april mr brown say meet financial golden rule surplus say public borrowing would continue fall next five year economy grow consecutive quarter say forecast continue next year forecast first value money saving identify gershon review achieve chancellor say civil servant post axe relocate south east england add snp leader alex salmond say mr brown fail tartan test measure boost scottish economy simon thomas plaid cymru call budget middle england uk independence party leader roger knapman attack plan pensioner say need money dignity allow spend want free bus ride green party say budget waste opportunity environmental protection add brown obviously eye come election take eye need planet\",\n          \"india seek boost construction india clear proposal allow foreign direct investment construction sector kamal nath commerce industry minister announce decision delhi thursday follow cabinet meeting analyst say improve india infrastructure boost foreign investment sector indian government decision spread good cheer construction sector accord indian firm spokesman dlf builder dr vancheshwar tell bbc mean well offering consumer well builder say firm benefit world class strategic partnership design expertise technology consumer well choice government proposal state foreign investment allow automatic route construction sector project include housing hotel resort hospital educational establishment automatic route mean construction company need get one set official approval need gain clearance foreign investment promotion board bureaucratic government hope new policy create employment construction worker benefit steel brick make industry mr nath also announce plan allow foreign investor develop small area land acquire foreign investor enter construction development area build resort township commercial premise construct least square meter square foot within specific timeframe say mr nath without specify timeframe previously foreign investor develop much large area discourage enter indian market measure design discourage foreign investor buy sell land speculatively without develop anshuman magazine manage director cb richard ellis international real estate company tell bbc big positive step however chittabrata majumdar general secretary centre indian trade union citu say allow fdi country compromise india self reliance say country develop basis foreign investment alone mr majumdar also say assessment make whether foreign investment indeed beneficial country term employment money generate another way international company fill deep pocket\",\n          \"us composer recreate bach score us musicologist recreate lost musical score german composer johann sebastian bach composition call wedding cantata bwv find among paper japanese pianist chieko hara die japan age work write wedding daughter german custom official miss year joshua rifkin composer lead interpreter bach recreate missing instrumental part say originally want let lost cantata lie rest maybe fragment stay fragment say rifkin think palaeontologist one bone figure entire dinosaur dinosaur eight rediscovered page consist vocal piece german soprano alto seven movement last total minute instrumental part entirely lose except two recycle movement duet aria use elsewhere bach work rifkin liken challenge musical rubik cube could reconstruct bach write could give people today idea music like say sound like bach music listener know part bach part mine\"\n        ],\n        \"semantic_type\": \"\",\n        \"description\": \"\"\n      }\n    }\n  ]\n}"
            }
          },
          "metadata": {},
          "execution_count": 3
        }
      ]
    },
    {
      "cell_type": "code",
      "source": [
        "from data_processing.feature_extractor import FeatureExtractor\n",
        "from analysis.classifier import NewsClassifier\n",
        "from analysis.sentiment_analyzer import SentimentAnalyzer\n",
        "from analysis.ner_extractor import NERExtractor\n",
        "from analysis.topic_modeler import TopicModeler\n",
        "from language_models.summarizer import Summarizer\n",
        "from conversation.query_processor import QueryProcessor\n"
      ],
      "metadata": {
        "id": "7UmVgu8Q4kww"
      },
      "execution_count": 4,
      "outputs": []
    },
    {
      "cell_type": "code",
      "source": [
        "from sklearn.model_selection import train_test_split\n",
        "from pathlib import Path\n",
        "\n",
        "# Vectorizer\n",
        "extractor = FeatureExtractor(max_features=2000, ngram_range=(1,2))\n",
        "X = extractor.fit_transform(df['clean_content'])\n",
        "y = df['category']\n",
        "\n",
        "# Split (not strictly needed if already validated, but useful for quick check)\n",
        "X_train, X_test, y_train, y_test = train_test_split(X, y, test_size=0.2, random_state=42)\n",
        "\n",
        "# Classifier (NB by default)\n",
        "clf = NewsClassifier(model_type='nb')\n",
        "clf.train(X_train, y_train)\n",
        "print(\"Classifier trained.\")\n",
        "clf.evaluate(X_test, y_test)\n",
        "\n",
        "# Save artifacts\n",
        "VEC_PATH = f\"{PROJECT_ROOT}/data/models/tfidf_vectorizer.pkl\"\n",
        "CLF_PATH = f\"{PROJECT_ROOT}/data/models/news_classifier_nb.pkl\"\n",
        "\n",
        "extractor.save(VEC_PATH)\n",
        "clf.save(CLF_PATH)\n",
        "print(\"Saved:\", VEC_PATH, \"and\", CLF_PATH)\n"
      ],
      "metadata": {
        "colab": {
          "base_uri": "https://localhost:8080/"
        },
        "id": "N6jiFVm34l8l",
        "outputId": "1882ae1f-317f-4f52-9ee2-1c046e9116fc"
      },
      "execution_count": 5,
      "outputs": [
        {
          "output_type": "stream",
          "name": "stdout",
          "text": [
            "Classifier trained.\n",
            "               precision    recall  f1-score   support\n",
            "\n",
            "     business       0.97      0.97      0.97        75\n",
            "entertainment       1.00      0.98      0.99        46\n",
            "     politics       0.93      0.95      0.94        56\n",
            "        sport       0.97      1.00      0.98        63\n",
            "         tech       0.96      0.93      0.95        58\n",
            "\n",
            "     accuracy                           0.97       298\n",
            "    macro avg       0.97      0.97      0.97       298\n",
            " weighted avg       0.97      0.97      0.97       298\n",
            "\n",
            "Accuracy: 96.64%\n",
            "Saved: /content/ITAI2373-NewsBot-Final/data/models/tfidf_vectorizer.pkl and /content/ITAI2373-NewsBot-Final/data/models/news_classifier_nb.pkl\n"
          ]
        }
      ]
    },
    {
      "cell_type": "code",
      "source": [
        "# Topic model\n",
        "topic_modeler = TopicModeler(n_topics=5, method='lda', max_features=1500)\n",
        "topic_modeler.fit_transform(df['clean_content'])\n",
        "\n",
        "# Sentiment, NER, Summarizer\n",
        "sentiment_analyzer = SentimentAnalyzer()\n",
        "ner_extractor = NERExtractor()\n",
        "summarizer = Summarizer()\n"
      ],
      "metadata": {
        "colab": {
          "base_uri": "https://localhost:8080/"
        },
        "id": "9eWbMDpp4nh_",
        "outputId": "623b858b-8f41-4d6f-d717-73f678834a56"
      },
      "execution_count": 6,
      "outputs": [
        {
          "output_type": "stream",
          "name": "stderr",
          "text": [
            "/usr/local/lib/python3.11/dist-packages/huggingface_hub/utils/_auth.py:94: UserWarning: \n",
            "The secret `HF_TOKEN` does not exist in your Colab secrets.\n",
            "To authenticate with the Hugging Face Hub, create a token in your settings tab (https://huggingface.co/settings/tokens), set it as secret in your Google Colab and restart your session.\n",
            "You will be able to reuse this secret in all of your notebooks.\n",
            "Please note that authentication is recommended but still optional to access public models or datasets.\n",
            "  warnings.warn(\n",
            "Device set to use cpu\n"
          ]
        }
      ]
    },
    {
      "cell_type": "code",
      "source": [
        "qp = QueryProcessor(\n",
        "    classifier=clf,\n",
        "    sentiment_analyzer=sentiment_analyzer,\n",
        "    ner_extractor=ner_extractor,\n",
        "    topic_modeler=topic_modeler,\n",
        "    summarizer=summarizer,\n",
        "    feature_extractor=extractor\n",
        ")\n",
        "print(\"QueryProcessor ready.\")\n"
      ],
      "metadata": {
        "colab": {
          "base_uri": "https://localhost:8080/"
        },
        "id": "A1GUv7-24pet",
        "outputId": "4b54fa58-c529-4e86-fea3-b7da52d8ebee"
      },
      "execution_count": 7,
      "outputs": [
        {
          "output_type": "stream",
          "name": "stdout",
          "text": [
            "QueryProcessor ready.\n"
          ]
        }
      ]
    },
    {
      "cell_type": "code",
      "source": [
        "sample_article = df['content'].iloc[0]\n",
        "\n",
        "print(\"User: What category is this article about?\")\n",
        "print(\"NewsBot:\", qp.process(\"What category is this article?\", sample_article), \"\\n\")\n",
        "\n",
        "print(\"User: What is the sentiment of this news story?\")\n",
        "print(\"NewsBot:\", qp.process(\"What is the sentiment?\", sample_article), \"\\n\")\n",
        "\n",
        "print(\"User: Who or what is mentioned in this article?\")\n",
        "print(\"NewsBot:\", qp.process(\"List the entities in this article.\", sample_article), \"\\n\")\n",
        "\n",
        "print(\"User: What is the main topic here?\")\n",
        "print(\"NewsBot:\", qp.process(\"What topic is this about?\", sample_article), \"\\n\")\n",
        "\n",
        "print(\"User: Summarize this article.\")\n",
        "print(\"NewsBot:\", qp.process(\"Summarize this article.\", sample_article), \"\\n\")\n"
      ],
      "metadata": {
        "colab": {
          "base_uri": "https://localhost:8080/"
        },
        "id": "tq3_ocS04q1n",
        "outputId": "c13e5219-35a6-4ae5-ef30-9075ed75a770"
      },
      "execution_count": 8,
      "outputs": [
        {
          "output_type": "stream",
          "name": "stdout",
          "text": [
            "User: What category is this article about?\n",
            "Detected Intent: category\n",
            "NewsBot: Predicted Category: business \n",
            "\n",
            "User: What is the sentiment of this news story?\n",
            "Detected Intent: sentiment\n",
            "NewsBot: Sentiment: neutral (polarity: 0.02) \n",
            "\n",
            "User: Who or what is mentioned in this article?\n",
            "Detected Intent: entities\n",
            "NewsBot: Entities found: first [ORDINAL], cynthia cooper [PERSON], us [GPE], 2002 [DATE], 5.7bn [MONEY], new york [GPE], wednesday [DATE], arthur andersen [PERSON], early 2001 and [DATE], 2002 [DATE], scott sullivan [PERSON], sullivan [PERSON], worldcom s accounting [ORG], 2001 [DATE], 85 years [DATE], 2004 [DATE], mci [ORG], last week [DATE], mci [ORG], 6.75bn [MONEY] \n",
            "\n",
            "User: What is the main topic here?\n",
            "Detected Intent: topic\n",
            "NewsBot: Main topic #2: say, year, mr, company, market, firm, rise, sale \n",
            "\n",
            "User: Summarize this article.\n",
            "Detected Intent: summary\n",
            "NewsBot: Summary: Worldcom ex-boss launches defence lawyers defending former worldcom chief bernie ebbers against a battery of fraud charges. cynthia cooper  worldcom s ex-head of internal accounting alerted directors to irregular accounting practices at the us telecoms giant in 2002. her warnings led to the collapse of the firm following the discovery of an $11bn (£5.7bn) accounting fraud. mr ebbers has pleaded not guilty to charges of fraud and conspiracy. \n",
            "\n"
          ]
        }
      ]
    },
    {
      "cell_type": "code",
      "source": [
        "# (Optional) Save everything you'd want to load in a minimal app\n",
        "# We’ll keep individual pickles already saved; this is just a note:\n",
        "print(\"Artifacts available:\")\n",
        "print(\" - Vectorizer:\", VEC_PATH)\n",
        "print(\" - Classifier:\", CLF_PATH)\n",
        "print(\" - Topic model: in-memory (add save() there if you implemented it)\")\n"
      ],
      "metadata": {
        "colab": {
          "base_uri": "https://localhost:8080/"
        },
        "id": "v0FcN__W4sMI",
        "outputId": "021ea81e-95b7-4888-fd6a-10989dfd92c2"
      },
      "execution_count": 9,
      "outputs": [
        {
          "output_type": "stream",
          "name": "stdout",
          "text": [
            "Artifacts available:\n",
            " - Vectorizer: /content/ITAI2373-NewsBot-Final/data/models/tfidf_vectorizer.pkl\n",
            " - Classifier: /content/ITAI2373-NewsBot-Final/data/models/news_classifier_nb.pkl\n",
            " - Topic model: in-memory (add save() there if you implemented it)\n"
          ]
        }
      ]
    },
    {
      "cell_type": "code",
      "source": [
        "def analyze_article_full(text: str):\n",
        "    # category\n",
        "    X_one = extractor.transform([text])\n",
        "    category = clf.predict(X_one)[0]\n",
        "    # sentiment\n",
        "    s = sentiment_analyzer.analyze(text)\n",
        "    s_label = sentiment_analyzer.label_sentiment(s['polarity'])\n",
        "    # entities\n",
        "    ents = ner_extractor.extract(text)\n",
        "    # topic\n",
        "    topic_id = topic_modeler.assign_topic(text)\n",
        "    # summary\n",
        "    summ = summarizer.summarize(text)\n",
        "    return {\n",
        "        \"category\": category,\n",
        "        \"sentiment\": {\"label\": s_label, \"polarity\": s['polarity']},\n",
        "        \"entities\": ents,\n",
        "        \"topic_id\": topic_id,\n",
        "        \"summary\": summ\n",
        "    }\n",
        "\n",
        "# smoke test\n",
        "analyze_article_full(df['content'].iloc[1])\n"
      ],
      "metadata": {
        "colab": {
          "base_uri": "https://localhost:8080/"
        },
        "id": "cdbZAncw4tcZ",
        "outputId": "ee691b75-fff4-4819-a1cc-70f068d8dc39"
      },
      "execution_count": 10,
      "outputs": [
        {
          "output_type": "execute_result",
          "data": {
            "text/plain": [
              "{'category': np.str_('business'),\n",
              " 'sentiment': {'label': 'neutral', 'polarity': 0.07791666666666669},\n",
              " 'entities': [('german', 'NORP'),\n",
              "  ('german', 'NORP'),\n",
              "  ('february', 'DATE'),\n",
              "  ('europe', 'LOC'),\n",
              "  ('munich', 'GPE'),\n",
              "  ('research institute ifo', 'ORG'),\n",
              "  ('95.5', 'CARDINAL'),\n",
              "  ('february', 'DATE'),\n",
              "  ('97.5', 'CARDINAL'),\n",
              "  ('january', 'DATE'),\n",
              "  ('first', 'ORDINAL'),\n",
              "  ('three months', 'DATE'),\n",
              "  ('bernd weidensteiner', 'PERSON'),\n",
              "  ('wolfgang', 'PERSON'),\n",
              "  ('february', 'DATE'),\n",
              "  ('germany', 'GPE'),\n",
              "  ('1.6%', 'PERCENT'),\n",
              "  ('last year', 'DATE'),\n",
              "  ('2003', 'DATE'),\n",
              "  ('0.2%', 'PERCENT'),\n",
              "  ('the last three months of 2004', 'DATE'),\n",
              "  ('hans-werner sinn', 'PERSON'),\n",
              "  ('german', 'NORP'),\n",
              "  ('the first half of 2004', 'DATE'),\n",
              "  ('german', 'NORP'),\n",
              "  ('close to 10%', 'PERCENT'),\n",
              "  ('siemens', 'ORG'),\n",
              "  ('volkswagen', 'ORG'),\n",
              "  ('germany', 'GPE'),\n",
              "  ('the european central bank', 'ORG'),\n",
              "  ('2%', 'PERCENT')],\n",
              " 'topic_id': np.int64(2),\n",
              " 'summary': 'German business confidence fell in february knocking hopes of a speedy recovery in europe s largest economy. munich-based research institute ifo said that its confidence index fell to 95.5 in February.'}"
            ]
          },
          "metadata": {},
          "execution_count": 10
        }
      ]
    }
  ]
}